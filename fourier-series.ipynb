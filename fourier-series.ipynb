{
 "cells": [
  {
   "cell_type": "markdown",
   "metadata": {},
   "source": [
    "# Fourier Series\n",
    "\n",
    "The code generates an interactive plot to visualize the Fourier series approximation of a square wave. The square wave is defined by a simple function, and the Fourier series terms are calculated using sine waves with odd harmonics. The interactive slider allows you to control the number of terms in the Fourier series, and the resulting plot shows the original square wave, individual Fourier series terms, and the cumulative Fourier series approximation.\n",
    "\n",
    "### Code Components:\n",
    "\n",
    "1. **Square Wave Function:**\n",
    "   - The `square_wave` function generates a square wave based on a time vector `t` and an amplitude.\n",
    "\n",
    "2. **Fourier Series Term Function:**\n",
    "   - The `fourier_series_term` function calculates the nth term of the Fourier series, incorporating the specified frequency and amplitude.\n",
    "\n",
    "   <br>\n",
    "   <img src=\"images/fourier.png\" alt=\"Example\" width=\"40%\" height=\"40%\">\n",
    "\n",
    "3. **Fourier Series Sum Function:**\n",
    "   - The `fourier_series_sum` function calculates the sum of Fourier series terms up to a given term, forming the Fourier series approximation.\n",
    "\n",
    "   <br>\n",
    "   <img src=\"images/fourier-series-example.png\" alt=\"Example\" width=\"30%\" height=\"30%\">\n",
    "\n",
    "4. **Interactive Plotting:**\n",
    "   - The code utilizes ipywidgets and the `interact` decorator to create an interactive slider for controlling the number of terms in the Fourier series.\n",
    "\n",
    "5. **Plotting:**\n",
    "   - The resulting plot consists of three subplots:\n",
    "      - The first subplot displays the original square wave.\n",
    "      - The second subplot shows individual Fourier series terms up to the specified number.\n",
    "      - The third subplot presents the Fourier series approximation based on the cumulative sum of terms.\n",
    "\n",
    "Adjusting the interactive slider allows for real-time exploration of how the Fourier series approximation improves with an increasing number of terms.\n"
   ]
  },
  {
   "cell_type": "code",
   "execution_count": 5,
   "metadata": {},
   "outputs": [
    {
     "data": {
      "application/vnd.jupyter.widget-view+json": {
       "model_id": "ad8cf272d6ea4b6ebd57e9feecd88cb2",
       "version_major": 2,
       "version_minor": 0
      },
      "text/plain": [
       "interactive(children=(IntSlider(value=1, description='num_terms', max=30, min=1), Output()), _dom_classes=('wi…"
      ]
     },
     "metadata": {},
     "output_type": "display_data"
    }
   ],
   "source": [
    "import numpy as np\n",
    "import matplotlib.pyplot as plt\n",
    "import ipywidgets as widgets\n",
    "from ipywidgets import interact\n",
    "\n",
    "# Function to generate a square wave\n",
    "def square_wave(t, amplitude=1.0):\n",
    "    return amplitude * (1 + np.sign(np.sin(2 * np.pi * t))) / 2\n",
    "\n",
    "# Function to calculate the nth term of the Fourier series for a square wave\n",
    "def fourier_series_term(n, frequency, amplitude, t):\n",
    "    return (1/n) * np.sin(2 * np.pi * (2*n - 1) * frequency * t) * amplitude\n",
    "\n",
    "# Function to calculate the Fourier series sum up to a given term\n",
    "def fourier_series_sum(t, frequency, amplitude, num_terms):\n",
    "    series_sum = np.zeros_like(t)\n",
    "    for n in range(1, num_terms + 1):\n",
    "        series_sum += fourier_series_term(n, frequency, amplitude, t)\n",
    "    return series_sum\n",
    "\n",
    "# Interactive function\n",
    "@interact(num_terms=widgets.IntSlider(min=1, max=30, step=1, value=1))\n",
    "def plot_square_wave_fourier_series(num_terms):\n",
    "    # Parameters\n",
    "    frequency = 1.0  # Fundamental frequency of the square wave\n",
    "    amplitude = 1.0  # Amplitude of the square wave\n",
    "    T = 1.0 / frequency  # Period of the square wave\n",
    "    t = np.linspace(0, 4 * T, 1000)  # Time vector\n",
    "\n",
    "    # Generate the square wave\n",
    "    square_wave_signal = square_wave(t, amplitude)\n",
    "\n",
    "    # Generate Fourier series terms\n",
    "    fourier_series_terms = [fourier_series_term(n, frequency, amplitude, t) for n in range(1, num_terms + 1)]\n",
    "\n",
    "    # Calculate the Fourier series sum\n",
    "    fourier_series_sum_signal = fourier_series_sum(t, frequency, amplitude, num_terms)\n",
    "\n",
    "    # Plotting\n",
    "    plt.figure(figsize=(12, 10))\n",
    "\n",
    "    # Plot the square wave\n",
    "    plt.subplot(3, 1, 1)\n",
    "    plt.plot(t, square_wave_signal, label='Square Wave')\n",
    "    plt.title('Square Wave and Fourier Series Terms')\n",
    "    plt.xlabel('Time')\n",
    "    plt.ylabel('Amplitude')\n",
    "    plt.legend()\n",
    "    plt.grid(True)\n",
    "\n",
    "    # Plot the Fourier series terms\n",
    "    plt.subplot(3, 1, 2)\n",
    "    for n in range(num_terms):\n",
    "        plt.plot(t, fourier_series_terms[n])\n",
    "\n",
    "    plt.title('Fourier Series Terms')\n",
    "    plt.xlabel('Time')\n",
    "    plt.ylabel('Amplitude')\n",
    "    plt.grid(True)\n",
    "\n",
    "    # Plot the Fourier series approximation\n",
    "    plt.subplot(3, 1, 3)\n",
    "    plt.plot(t, fourier_series_sum_signal)\n",
    "    plt.title('Fourier Series Approximation')\n",
    "    plt.xlabel('Time')\n",
    "    plt.ylabel('Amplitude')\n",
    "    plt.grid(True)\n",
    "\n",
    "    plt.tight_layout()\n",
    "    plt.show()\n"
   ]
  }
 ],
 "metadata": {
  "kernelspec": {
   "display_name": "Python 3",
   "language": "python",
   "name": "python3"
  },
  "language_info": {
   "codemirror_mode": {
    "name": "ipython",
    "version": 3
   },
   "file_extension": ".py",
   "mimetype": "text/x-python",
   "name": "python",
   "nbconvert_exporter": "python",
   "pygments_lexer": "ipython3",
   "version": "3.9.5"
  }
 },
 "nbformat": 4,
 "nbformat_minor": 2
}
