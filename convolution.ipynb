{
 "cells": [
  {
   "cell_type": "markdown",
   "metadata": {},
   "source": [
    "# Convolution Visualization\n",
    "\n",
    "This interactive plot demonstrates the convolution of two rectangle signals and provides a visual interpretation of the convolution process.\n",
    "\n",
    "### Function Description:\n",
    "\n",
    "- The first plot illustrates two rectangle signals: one movable and the other fixed.\n",
    "  - The blue shaded area represents the overlap between the two signals.\n",
    "  - Adjust the sliders for `width_rect` (width of the rectangles) and `position_rect` (position of the movable rectangle) to observe changes in the signals and their overlap.\n",
    "\n",
    "- The second plot displays the result of the convolution of the two rectangle signals.\n",
    "  - A red dot on the plot indicates the position of the movable rectangle, and its corresponding convolution result value is highlighted.\n",
    "  - The convolution result represents the amplitude of the overlapping area as it slides over time.\n",
    "\n",
    "Explore different settings to gain insights into the convolution process and its visual representation.\n",
    "\n",
    "<img src=\"images/convolution.png\" alt=\"Convolution\" width=\"50%\" height=\"50%\">\n",
    "<br>\n",
    "<img src=\"images/convolution.gif\" alt=\"Convolution\" width=\"50%\" height=\"50%\">\n",
    "\n"
   ]
  },
  {
   "cell_type": "code",
   "execution_count": 2,
   "metadata": {},
   "outputs": [
    {
     "data": {
      "application/vnd.jupyter.widget-view+json": {
       "model_id": "73f0789d9af74b78bd9444e2120b44df",
       "version_major": 2,
       "version_minor": 0
      },
      "text/plain": [
       "interactive(children=(FloatSlider(value=2.0, description='width_rect', max=5.0, min=0.1), FloatSlider(value=0.…"
      ]
     },
     "metadata": {},
     "output_type": "display_data"
    },
    {
     "data": {
      "text/plain": [
       "<function __main__.convolution_visualization(width_rect, position_rect)>"
      ]
     },
     "execution_count": 2,
     "metadata": {},
     "output_type": "execute_result"
    }
   ],
   "source": [
    "import numpy as np\n",
    "import matplotlib.pyplot as plt\n",
    "import ipywidgets as widgets\n",
    "from ipywidgets import interact\n",
    "\n",
    "def rectangle_signal(t, width, position):\n",
    "    return (np.abs(t - position) < width / 2).astype(float)\n",
    "\n",
    "def rectangle_signal_fixed(t, width):\n",
    "    return (np.abs(t) < width / 2).astype(float)\n",
    "\n",
    "def convolution_visualization(width_rect, position_rect):\n",
    "    t = np.linspace(-10, 10, 1000) # lenght = 20 / 50 point for each second\n",
    "\n",
    "    rect = rectangle_signal(t, width_rect, position_rect)\n",
    "    rect_fixed = rectangle_signal_fixed(t, width_rect)\n",
    "\n",
    "    convolution_result = np.convolve(rect_fixed, rect_fixed, mode='same') / 100 # np.convolve return a percentage, but I want values\n",
    "\n",
    "    plt.figure(figsize=(12, 6))\n",
    "\n",
    "    # First plot: Signals and Overlap Area\n",
    "    plt.subplot(2, 1, 1)\n",
    "    plt.plot(t, rect, label='Rectangle Signal')\n",
    "    plt.plot(t, rect_fixed, label='Fixed Rectangle Signal')\n",
    "\n",
    "    # Color the overlap area\n",
    "    plt.fill_between(t, np.minimum(rect, rect_fixed), alpha=0.3, color='blue', label='Overlap Area')\n",
    "    plt.axvline(position_rect, linestyle='--', color='blue')\n",
    "\n",
    "    plt.title('Convolution of two Rectangle Signals')\n",
    "    plt.xlabel('Time')\n",
    "    plt.ylabel('Amplitude')\n",
    "    plt.legend()\n",
    "    plt.grid(True)\n",
    "\n",
    "    # Second plot: Convolution Result\n",
    "    plt.subplot(2, 1, 2)\n",
    "    plt.plot(np.linspace(-10, 10, len(convolution_result)), convolution_result, label='Convolution Result')\n",
    "\n",
    "    # Add a red dot at the position_rect and its corresponding convolution_result value\n",
    "    index = int(position_rect*len(t)/20) + 500 # + 500 need: position_rec = 0 -> index 0? No index -500\n",
    "    plt.scatter(position_rect, convolution_result[index], color='red', label='Position Rect')\n",
    "    plt.axvline(position_rect, linestyle='--', color='blue')\n",
    "\n",
    "    plt.xlabel('Time')\n",
    "    plt.ylabel('Amplitude')\n",
    "    plt.legend()\n",
    "    plt.grid(True)\n",
    "\n",
    "\n",
    "# Create interactive plot with sliders\n",
    "interact(convolution_visualization,\n",
    "         width_rect=widgets.FloatSlider(min=0.1, max=5, step=0.1, value=2),\n",
    "         position_rect=widgets.FloatSlider(min=-5, max=5, step=0.1, value=0))\n"
   ]
  }
 ],
 "metadata": {
  "kernelspec": {
   "display_name": "Python 3",
   "language": "python",
   "name": "python3"
  },
  "language_info": {
   "codemirror_mode": {
    "name": "ipython",
    "version": 3
   },
   "file_extension": ".py",
   "mimetype": "text/x-python",
   "name": "python",
   "nbconvert_exporter": "python",
   "pygments_lexer": "ipython3",
   "version": "3.9.5"
  }
 },
 "nbformat": 4,
 "nbformat_minor": 2
}
