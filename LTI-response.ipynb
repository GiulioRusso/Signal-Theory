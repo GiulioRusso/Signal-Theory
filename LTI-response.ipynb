{
 "cells": [
  {
   "cell_type": "markdown",
   "metadata": {},
   "source": [
    "# LTI system response\n",
    "\n",
    "This interactive plot demonstrates the response of a system to the product of a sinc function and a rectangular function in the time domain.\n",
    "\n",
    "The interactive plot has a slider (`rect_width`) that allows users to adjust the width of the rectangular function. The plot consists of two subplots:\n",
    "1. The left subplot displays the sinc function and the rectangular function with the specified width.\n",
    "2. The right subplot shows the product of the sinc and rectangular functions, representing the response of a linear time-invariant (LTI) system.\n",
    "\n",
    "Users can interactively modify the rectangular function width using the slider, observing the real-time changes in the plot, providing a visual understanding of the system's response to different input parameters.\n",
    "\n",
    "<br>\n",
    "<img src=\"images/LTI.png\" alt=\"LTI\" width=\"50%\" height=\"50%\">\n"
   ]
  },
  {
   "cell_type": "code",
   "execution_count": 2,
   "metadata": {},
   "outputs": [
    {
     "data": {
      "application/vnd.jupyter.widget-view+json": {
       "model_id": "c7fff145886b4fbb90accc9a599438a5",
       "version_major": 2,
       "version_minor": 0
      },
      "text/plain": [
       "interactive(children=(FloatSlider(value=2.0, description='rect_width', max=20.0, min=0.1), Output()), _dom_cla…"
      ]
     },
     "metadata": {},
     "output_type": "display_data"
    },
    {
     "data": {
      "text/plain": [
       "<function __main__.update_plot(rect_width)>"
      ]
     },
     "execution_count": 2,
     "metadata": {},
     "output_type": "execute_result"
    }
   ],
   "source": [
    "import numpy as np\n",
    "import matplotlib.pyplot as plt\n",
    "from ipywidgets import interact, widgets\n",
    "\n",
    "def sinc_function(x):\n",
    "    return np.sinc(x/np.pi)\n",
    "\n",
    "def rect_function(x, width):\n",
    "    return np.where(np.abs(x) <= width/2, 1.0, 0.0)\n",
    "\n",
    "def update_plot(rect_width):\n",
    "    # Parameters\n",
    "    Fs = 1000  # Sampling frequency\n",
    "    T = 1 / Fs  # Sampling period\n",
    "    t = np.arange(-20, 20, T)  # Time vector\n",
    "\n",
    "    # Generate sinc function\n",
    "    sinc_signal = sinc_function(t)\n",
    "\n",
    "    # Generate rect function with the updated width\n",
    "    rect_signal = rect_function(t, rect_width)\n",
    "    \n",
    "    # Compute the product in time domain\n",
    "    product_signal = sinc_signal * rect_signal\n",
    "\n",
    "    # Plotting\n",
    "    plt.figure(figsize=(12, 4))\n",
    "\n",
    "    # Plot sinc function\n",
    "    plt.subplot(1, 2, 1)\n",
    "    plt.plot(t, sinc_signal, label='Sinc Function')\n",
    "    plt.title('Input and System response')\n",
    "    # Plot rect function\n",
    "    plt.plot(t, rect_signal, linestyle='--', color='red', label='Rect Function')\n",
    "    plt.grid()\n",
    "    plt.legend()\n",
    "\n",
    "    # Plot product in time domain\n",
    "    plt.subplot(1, 2, 2)\n",
    "    plt.plot(t, product_signal)\n",
    "    plt.title('LTI system response')\n",
    "    plt.xlabel('Time')\n",
    "\n",
    "    plt.tight_layout()\n",
    "    plt.grid()\n",
    "    plt.show()\n",
    "\n",
    "\n",
    "# Create interactive plot with sliders\n",
    "interact(update_plot,\n",
    "         rect_width=widgets.FloatSlider(min=0.1, max=20, step=0.1, value=2))\n"
   ]
  }
 ],
 "metadata": {
  "kernelspec": {
   "display_name": "Python 3",
   "language": "python",
   "name": "python3"
  },
  "language_info": {
   "codemirror_mode": {
    "name": "ipython",
    "version": 3
   },
   "file_extension": ".py",
   "mimetype": "text/x-python",
   "name": "python",
   "nbconvert_exporter": "python",
   "pygments_lexer": "ipython3",
   "version": "3.9.5"
  }
 },
 "nbformat": 4,
 "nbformat_minor": 2
}
